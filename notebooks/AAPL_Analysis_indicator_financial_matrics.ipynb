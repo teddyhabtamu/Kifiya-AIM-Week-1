{
 "cells": [
  {
   "cell_type": "markdown",
   "metadata": {},
   "source": [
    "## TASK-2"
   ]
  },
  {
   "cell_type": "markdown",
   "metadata": {},
   "source": [
    "`Indicator Analysis and Financial Matrics`"
   ]
  },
  {
   "cell_type": "markdown",
   "metadata": {},
   "source": [
    "`Load and prepare the data`"
   ]
  },
  {
   "cell_type": "code",
   "execution_count": 1,
   "metadata": {},
   "outputs": [
    {
     "name": "stdout",
     "output_type": "stream",
     "text": [
      "         Date      Open      High       Low     Close  Adj Close     Volume  \\\n",
      "0  1980-12-12  0.128348  0.128906  0.128348  0.128348   0.098943  469033600   \n",
      "1  1980-12-15  0.122210  0.122210  0.121652  0.121652   0.093781  175884800   \n",
      "2  1980-12-16  0.113281  0.113281  0.112723  0.112723   0.086898  105728000   \n",
      "3  1980-12-17  0.115513  0.116071  0.115513  0.115513   0.089049   86441600   \n",
      "4  1980-12-18  0.118862  0.119420  0.118862  0.118862   0.091630   73449600   \n",
      "\n",
      "   Dividends  Stock Splits  \n",
      "0        0.0           0.0  \n",
      "1        0.0           0.0  \n",
      "2        0.0           0.0  \n",
      "3        0.0           0.0  \n",
      "4        0.0           0.0  \n"
     ]
    }
   ],
   "source": [
    "import pandas as pd\n",
    "\n",
    "data = pd.read_csv('../datas/yfinance_data/AAPL_historical_data.csv')\n",
    "\n",
    "print(data.head())"
   ]
  },
  {
   "cell_type": "markdown",
   "metadata": {},
   "source": [
    "`Apply Analyis Indicator with TA-Lib`"
   ]
  },
  {
   "cell_type": "code",
   "execution_count": 6,
   "metadata": {},
   "outputs": [
    {
     "data": {
      "text/html": [
       "<div>\n",
       "<style scoped>\n",
       "    .dataframe tbody tr th:only-of-type {\n",
       "        vertical-align: middle;\n",
       "    }\n",
       "\n",
       "    .dataframe tbody tr th {\n",
       "        vertical-align: top;\n",
       "    }\n",
       "\n",
       "    .dataframe thead th {\n",
       "        text-align: right;\n",
       "    }\n",
       "</style>\n",
       "<table border=\"1\" class=\"dataframe\">\n",
       "  <thead>\n",
       "    <tr style=\"text-align: right;\">\n",
       "      <th></th>\n",
       "      <th>Date</th>\n",
       "      <th>Open</th>\n",
       "      <th>High</th>\n",
       "      <th>Low</th>\n",
       "      <th>Close</th>\n",
       "      <th>Adj Close</th>\n",
       "      <th>Volume</th>\n",
       "      <th>Dividends</th>\n",
       "      <th>Stock Splits</th>\n",
       "      <th>SMA</th>\n",
       "      <th>EMA</th>\n",
       "      <th>RSI</th>\n",
       "      <th>MACD</th>\n",
       "      <th>MACD_Signal</th>\n",
       "      <th>MACD_Hist</th>\n",
       "    </tr>\n",
       "  </thead>\n",
       "  <tbody>\n",
       "    <tr>\n",
       "      <th>33</th>\n",
       "      <td>1981-01-30</td>\n",
       "      <td>0.127232</td>\n",
       "      <td>0.127232</td>\n",
       "      <td>0.126116</td>\n",
       "      <td>0.126116</td>\n",
       "      <td>0.097223</td>\n",
       "      <td>46188800</td>\n",
       "      <td>0.0</td>\n",
       "      <td>0.0</td>\n",
       "      <td>0.141871</td>\n",
       "      <td>0.138602</td>\n",
       "      <td>39.642837</td>\n",
       "      <td>-0.000377</td>\n",
       "      <td>0.001789</td>\n",
       "      <td>-0.002166</td>\n",
       "    </tr>\n",
       "    <tr>\n",
       "      <th>34</th>\n",
       "      <td>1981-02-02</td>\n",
       "      <td>0.119420</td>\n",
       "      <td>0.119420</td>\n",
       "      <td>0.118862</td>\n",
       "      <td>0.118862</td>\n",
       "      <td>0.091630</td>\n",
       "      <td>23766400</td>\n",
       "      <td>0.0</td>\n",
       "      <td>0.0</td>\n",
       "      <td>0.141871</td>\n",
       "      <td>0.137328</td>\n",
       "      <td>34.943807</td>\n",
       "      <td>-0.001930</td>\n",
       "      <td>0.001045</td>\n",
       "      <td>-0.002975</td>\n",
       "    </tr>\n",
       "    <tr>\n",
       "      <th>35</th>\n",
       "      <td>1981-02-03</td>\n",
       "      <td>0.123326</td>\n",
       "      <td>0.123884</td>\n",
       "      <td>0.123326</td>\n",
       "      <td>0.123326</td>\n",
       "      <td>0.095072</td>\n",
       "      <td>19152000</td>\n",
       "      <td>0.0</td>\n",
       "      <td>0.0</td>\n",
       "      <td>0.141778</td>\n",
       "      <td>0.136425</td>\n",
       "      <td>39.682098</td>\n",
       "      <td>-0.002769</td>\n",
       "      <td>0.000282</td>\n",
       "      <td>-0.003051</td>\n",
       "    </tr>\n",
       "    <tr>\n",
       "      <th>36</th>\n",
       "      <td>1981-02-04</td>\n",
       "      <td>0.127790</td>\n",
       "      <td>0.128348</td>\n",
       "      <td>0.127790</td>\n",
       "      <td>0.127790</td>\n",
       "      <td>0.098513</td>\n",
       "      <td>27865600</td>\n",
       "      <td>0.0</td>\n",
       "      <td>0.0</td>\n",
       "      <td>0.141629</td>\n",
       "      <td>0.135868</td>\n",
       "      <td>44.069116</td>\n",
       "      <td>-0.003038</td>\n",
       "      <td>-0.000382</td>\n",
       "      <td>-0.002656</td>\n",
       "    </tr>\n",
       "    <tr>\n",
       "      <th>37</th>\n",
       "      <td>1981-02-05</td>\n",
       "      <td>0.127790</td>\n",
       "      <td>0.128906</td>\n",
       "      <td>0.127790</td>\n",
       "      <td>0.127790</td>\n",
       "      <td>0.098513</td>\n",
       "      <td>7929600</td>\n",
       "      <td>0.0</td>\n",
       "      <td>0.0</td>\n",
       "      <td>0.141295</td>\n",
       "      <td>0.135347</td>\n",
       "      <td>44.069116</td>\n",
       "      <td>-0.003215</td>\n",
       "      <td>-0.000949</td>\n",
       "      <td>-0.002266</td>\n",
       "    </tr>\n",
       "  </tbody>\n",
       "</table>\n",
       "</div>"
      ],
      "text/plain": [
       "          Date      Open      High       Low     Close  Adj Close    Volume  \\\n",
       "33  1981-01-30  0.127232  0.127232  0.126116  0.126116   0.097223  46188800   \n",
       "34  1981-02-02  0.119420  0.119420  0.118862  0.118862   0.091630  23766400   \n",
       "35  1981-02-03  0.123326  0.123884  0.123326  0.123326   0.095072  19152000   \n",
       "36  1981-02-04  0.127790  0.128348  0.127790  0.127790   0.098513  27865600   \n",
       "37  1981-02-05  0.127790  0.128906  0.127790  0.127790   0.098513   7929600   \n",
       "\n",
       "    Dividends  Stock Splits       SMA       EMA        RSI      MACD  \\\n",
       "33        0.0           0.0  0.141871  0.138602  39.642837 -0.000377   \n",
       "34        0.0           0.0  0.141871  0.137328  34.943807 -0.001930   \n",
       "35        0.0           0.0  0.141778  0.136425  39.682098 -0.002769   \n",
       "36        0.0           0.0  0.141629  0.135868  44.069116 -0.003038   \n",
       "37        0.0           0.0  0.141295  0.135347  44.069116 -0.003215   \n",
       "\n",
       "    MACD_Signal  MACD_Hist  \n",
       "33     0.001789  -0.002166  \n",
       "34     0.001045  -0.002975  \n",
       "35     0.000282  -0.003051  \n",
       "36    -0.000382  -0.002656  \n",
       "37    -0.000949  -0.002266  "
      ]
     },
     "execution_count": 6,
     "metadata": {},
     "output_type": "execute_result"
    }
   ],
   "source": [
    "import talib\n",
    "\n",
    "data['SMA'] = talib.SMA(data['Close'], timeperiod=30)\n",
    "data['EMA'] = talib.EMA(data['Close'], timeperiod=30)\n",
    "\n",
    "data['RSI'] = talib.RSI(data['Close'], timeperiod=14)\n",
    "data['MACD'], data['MACD_Signal'], data['MACD_Hist'] = talib.MACD(data['Close'], fastperiod=12, slowperiod=26, signalperiod=9)\n",
    "\n",
    "data = data.dropna()\n",
    "data.head()\n"
   ]
  },
  {
   "cell_type": "markdown",
   "metadata": {},
   "source": [
    "`Use PyNance for Financial Matrics`"
   ]
  },
  {
   "cell_type": "code",
   "execution_count": 17,
   "metadata": {},
   "outputs": [
    {
     "name": "stdout",
     "output_type": "stream",
     "text": [
      "Volatility: 0.018159630549912646\n",
      "Average Return: 0.0004562773442129564\n",
      "              Close     SMA_50\n",
      "Date                          \n",
      "2018-01-08  41.0713  40.742960\n",
      "2018-01-05  41.2125  40.738358\n",
      "2018-01-04  40.7534  40.724336\n",
      "2018-01-03  40.5616  40.693560\n",
      "2018-01-02  40.5685  40.659996\n"
     ]
    }
   ],
   "source": [
    "import pynance as pn\n",
    "\n",
    "stock_data = pn.data.get('AAPL', '2018-01-01', '2019-01-01')\n",
    "\n",
    "# Calculate a simple moving average (SMA)\n",
    "stock_data['SMA_50'] = stock_data['Close'].rolling(window=50).mean()\n",
    "\n",
    "# Calculate volatility (standard deviation of returns)\n",
    "stock_data['Returns'] = stock_data['Close'].pct_change()\n",
    "volatility = stock_data['Returns'].std()\n",
    "\n",
    "# Calculate average return\n",
    "average_return = stock_data['Returns'].mean()\n",
    "\n",
    "# Print results\n",
    "print(f\"Volatility: {volatility}\")\n",
    "print(f\"Average Return: {average_return}\")\n",
    "print(stock_data[['Close', 'SMA_50']].tail())\n"
   ]
  },
  {
   "cell_type": "markdown",
   "metadata": {},
   "source": []
  },
  {
   "cell_type": "code",
   "execution_count": null,
   "metadata": {},
   "outputs": [],
   "source": []
  },
  {
   "cell_type": "markdown",
   "metadata": {},
   "source": []
  }
 ],
 "metadata": {
  "kernelspec": {
   "display_name": ".venv",
   "language": "python",
   "name": "python3"
  },
  "language_info": {
   "codemirror_mode": {
    "name": "ipython",
    "version": 3
   },
   "file_extension": ".py",
   "mimetype": "text/x-python",
   "name": "python",
   "nbconvert_exporter": "python",
   "pygments_lexer": "ipython3",
   "version": "3.10.12"
  }
 },
 "nbformat": 4,
 "nbformat_minor": 2
}
